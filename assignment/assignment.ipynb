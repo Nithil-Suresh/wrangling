{
  "cells": [
    {
      "cell_type": "markdown",
      "id": "13ad028b-72b7-43ed-aa78-96fd4e518040",
      "metadata": {
        "id": "13ad028b-72b7-43ed-aa78-96fd4e518040"
      },
      "source": [
        "# Assignment: Data Wrangling\n",
        "### `! git clone https://github.com/ds4e/wrangling`\n",
        "### Do Q1 and Q2, and either Q3 or Q4, for a total of 3 questions."
      ]
    },
    {
      "cell_type": "code",
      "source": [
        "! git clone https://github.com/ds4e/wrangling"
      ],
      "metadata": {
        "colab": {
          "base_uri": "https://localhost:8080/"
        },
        "id": "X49jcSXvhBSu",
        "outputId": "ea30e646-c8e0-407b-dfb4-befb6c7bbce3"
      },
      "id": "X49jcSXvhBSu",
      "execution_count": 2,
      "outputs": [
        {
          "output_type": "stream",
          "name": "stdout",
          "text": [
            "Cloning into 'wrangling'...\n",
            "remote: Enumerating objects: 63, done.\u001b[K\n",
            "remote: Counting objects: 100% (18/18), done.\u001b[K\n",
            "remote: Compressing objects: 100% (13/13), done.\u001b[K\n",
            "remote: Total 63 (delta 8), reused 5 (delta 5), pack-reused 45 (from 1)\u001b[K\n",
            "Receiving objects: 100% (63/63), 13.84 MiB | 10.31 MiB/s, done.\n",
            "Resolving deltas: 100% (14/14), done.\n"
          ]
        }
      ]
    },
    {
      "cell_type": "markdown",
      "id": "da879ea7-8aac-48a3-b6c2-daea56d2e072",
      "metadata": {
        "id": "da879ea7-8aac-48a3-b6c2-daea56d2e072"
      },
      "source": [
        "**Q1.** This question provides some practice cleaning variables which have common problems.\n",
        "1. Numeric variable: For `./data/airbnb_hw.csv`, clean the `Price` variable as well as you can, and explain the choices you make. How many missing values do you end up with? (Hint: What happens to the formatting when a price goes over 999 dollars, say from 675 to 1,112?)\n",
        "2. Categorical variable: For the Minnesota police use of for data, `./data/mn_police_use_of_force.csv`, clean the `subject_injury` variable, handling the NA's; this gives a value `Yes` when a person was injured by police, and `No` when no injury occurred. What proportion of the values are missing? Is this a concern? Cross-tabulate your cleaned `subject_injury` variable with the `force_type` variable. Are there any patterns regarding when the data are missing?\n",
        "3. Dummy variable: For the pretrial data covered in the lecture, clean the `WhetherDefendantWasReleasedPretrial` variable as well as you can, and, in particular, replace missing values with `np.nan`.\n",
        "4. Missing values, not at random: For the pretrial data covered in the lecture, clean the `ImposedSentenceAllChargeInContactEvent` variable as well as you can, and explain the choices you make. (Hint: Look at the `SentenceTypeAllChargesAtConvictionInContactEvent` variable.)"
      ]
    },
    {
      "cell_type": "code",
      "source": [
        "# 1.\n",
        "\n",
        "import numpy as np # Import the numpy package into your workspace\n",
        "import matplotlib.pyplot as plt # Import matplotlib into your workspace\n",
        "import pandas as pd\n",
        "import os\n",
        "\n",
        "print(os.getcwd())\n",
        "\n",
        "new_directory = \"/content/wrangling/assignment\"\n",
        "os.chdir(new_directory)\n",
        "\n",
        "df = pd.read_csv('./data/airbnb_hw.csv',low_memory=False)\n",
        "\n",
        "# getting rid of commas in the numeric values to preserve as much data as possible\n",
        "df['Price'].str.replace(',', '')\n",
        "\n",
        "# converting to a numeric type because this row has number data\n",
        "df['Price'] = pd.to_numeric(df['Price'], errors='coerce') # Coerce the variable to numeric\n",
        "\n",
        "# Create a missing dummy:\n",
        "df['Price_nan'] = df['Price'].isnull() # Equals 1 if missing, 0 if non-null\n",
        "\n",
        "# Calculating the number of missing values\n",
        "print('Total Missings: \\n', sum(df['Price_nan']),'\\n') # How many missing values are there?\n",
        "\n"
      ],
      "metadata": {
        "colab": {
          "base_uri": "https://localhost:8080/"
        },
        "id": "pZ0XsXudhFvm",
        "outputId": "3b5882e4-834e-4f46-caaf-385a4705465d"
      },
      "id": "pZ0XsXudhFvm",
      "execution_count": 4,
      "outputs": [
        {
          "output_type": "stream",
          "name": "stdout",
          "text": [
            "/content/wrangling/assignment\n",
            "Total Missings: \n",
            " 181 \n",
            "\n"
          ]
        }
      ]
    },
    {
      "cell_type": "code",
      "source": [
        "# 2.\n",
        "\n",
        "df = pd.read_csv('./data/mn_police_use_of_force.csv',low_memory=False)\n",
        "\n",
        "df.head()\n",
        "\n",
        "var = 'subject_injury'\n",
        "print(df[var].unique(), '\\n')\n",
        "\n",
        "# Create a missing dummy:\n",
        "df['subject_injury_nan'] = df['subject_injury'].isnull() # Equals 1 if missing, 0 if non-null\n",
        "\n",
        "print('Proportion Missing: \\n', sum(df['subject_injury_nan'])/12925,'\\n') # How many missing values are there?\n",
        "# df.count()\n",
        "# This is a concerning amount of missing data.\n",
        "\n",
        "print(pd.crosstab(df['subject_injury'],df['force_type']),'\\n')\n",
        "\n",
        "print(pd.crosstab(df['subject_injury_nan'],df['force_type']),'\\n')\n",
        "# A lot of the subject_injury data that is missing seems to come from force types that seem like\n",
        "# they would cause injury, like bodily force and tasers.\n",
        "\n"
      ],
      "metadata": {
        "colab": {
          "base_uri": "https://localhost:8080/"
        },
        "id": "BycEXIVcjDzz",
        "outputId": "d6480f12-9422-4ac2-b1ff-ba0b683f7394"
      },
      "id": "BycEXIVcjDzz",
      "execution_count": 6,
      "outputs": [
        {
          "output_type": "stream",
          "name": "stdout",
          "text": [
            "[nan 'No' 'Yes'] \n",
            "\n",
            "Proportion Missing: \n",
            " 0.7619342359767892 \n",
            "\n",
            "force_type      Baton  Bodily Force  Chemical Irritant  Firearm  \\\n",
            "subject_injury                                                    \n",
            "No                  0          1093                131        2   \n",
            "Yes                 2          1286                 41        0   \n",
            "\n",
            "force_type      Gun Point Display  Improvised Weapon  Less Lethal Projectile  \\\n",
            "subject_injury                                                                 \n",
            "No                             33                 34                       1   \n",
            "Yes                            44                 40                       2   \n",
            "\n",
            "force_type      Police K9 Bite  Taser  \n",
            "subject_injury                         \n",
            "No                           2    150  \n",
            "Yes                         44    172   \n",
            "\n",
            "force_type          Baton  Bodily Force  Chemical Irritant  Firearm  \\\n",
            "subject_injury_nan                                                    \n",
            "False                   2          2379                172        2   \n",
            "True                    2          7051               1421        0   \n",
            "\n",
            "force_type          Gun Point Display  Improvised Weapon  Less Lethal  \\\n",
            "subject_injury_nan                                                      \n",
            "False                              77                 74            0   \n",
            "True                               27                 74           87   \n",
            "\n",
            "force_type          Less Lethal Projectile  Maximal Restraint Technique  \\\n",
            "subject_injury_nan                                                        \n",
            "False                                    3                            0   \n",
            "True                                     0                          170   \n",
            "\n",
            "force_type          Police K9 Bite  Taser  \n",
            "subject_injury_nan                         \n",
            "False                           46    322  \n",
            "True                            31    985   \n",
            "\n"
          ]
        }
      ]
    },
    {
      "cell_type": "markdown",
      "id": "5a60a44e",
      "metadata": {
        "id": "5a60a44e"
      },
      "source": [
        "**Q2.** Go to https://sharkattackfile.net/ and download their dataset on shark attacks.\n",
        "\n",
        "1. Open the shark attack file using Pandas. It is probably not a csv file, so `read_csv` won't work.\n",
        "2. Drop any columns that do not contain data.\n",
        "3. Clean the year variable. Describe the range of values you see. Filter the rows to focus on attacks since 1940. Are attacks increasing, decreasing, or remaining constant over time?\n",
        "4. Clean the Age variable and make a histogram of the ages of the victims.\n",
        "5. What proportion of victims are male?\n",
        "6. Clean the `Type` variable so it only takes three values: Provoked and Unprovoked and Unknown. What proportion of attacks are unprovoked?\n",
        "7. Clean the `Fatal Y/N` variable so it only takes three values: Y, N, and Unknown.\n",
        "8. Are sharks more likely to launch unprovoked attacks on men or women? Is the attack more or less likely to be fatal when the attack is provoked or unprovoked? Is it more or less likely to be fatal when the victim is male or female? How do you feel about sharks?\n",
        "9. What proportion of attacks appear to be by white sharks? (Hint: `str.split()` makes a vector of text values into a list of lists, split by spaces.)"
      ]
    },
    {
      "cell_type": "markdown",
      "id": "5735a4d4-8be8-433a-a351-70eb8002e632",
      "metadata": {
        "id": "5735a4d4-8be8-433a-a351-70eb8002e632"
      },
      "source": [
        "**Q3.** Open the \"tidy_data.pdf\" document in the repo, which is a paper called Tidy Data by Hadley Wickham.\n",
        "\n",
        "  1. Read the abstract. What is this paper about?\n",
        "  2. Read the introduction. What is the \"tidy data standard\" intended to accomplish?\n",
        "  3. Read the intro to section 2. What does this sentence mean: \"Like families, tidy datasets are all alike but every messy dataset is messy in its own way.\" What does this sentence mean: \"For a given dataset, it’s usually easy to figure out what are observations and what are variables, but it is surprisingly difficult to precisely define variables and observations in general.\"\n",
        "  4. Read Section 2.2. How does Wickham define values, variables, and observations?\n",
        "  5. How is \"Tidy Data\" defined in section 2.3?\n",
        "  6. Read the intro to Section 3 and Section 3.1. What are the 5 most common problems with messy datasets? Why are the data in Table 4 messy? What is \"melting\" a dataset?\n",
        "  7. Why, specifically, is table 11 messy but table 12 tidy and \"molten\"?\n",
        "  8. Read Section 6. What is the \"chicken-and-egg\" problem with focusing on tidy data? What does Wickham hope happens in the future with further work on the subject of data wrangling?"
      ]
    },
    {
      "cell_type": "markdown",
      "id": "649494cd-cfd6-4f80-992a-9994fc19e1d5",
      "metadata": {
        "id": "649494cd-cfd6-4f80-992a-9994fc19e1d5"
      },
      "source": [
        "**Q4.** Many important datasets contain a race variable, typically limited to a handful of values often including Black, White, Asian, Latino, and Indigenous. This question looks at data gathering efforts on this variable by the U.S. Federal government.\n",
        "\n",
        "1. How did the most recent US Census gather data on race?\n",
        "2. Why do we gather these data? What role do these kinds of data play in politics and society? Why does data quality matter?\n",
        "3. Please provide a constructive criticism of how the Census was conducted: What was done well? What do you think was missing? How should future large scale surveys be adjusted to best reflect the diversity of the population? Could some of the Census' good practices be adopted more widely to gather richer and more useful data?\n",
        "4. How did the Census gather data on sex and gender? Please provide a similar constructive criticism of their practices.\n",
        "5. When it comes to cleaning data, what concerns do you have about protected characteristics like sex, gender, sexual identity, or race? What challenges can you imagine arising when there are missing values? What good or bad practices might people adopt, and why?\n",
        "6. Suppose someone invented an algorithm to impute values for protected characteristics like race, gender, sex, or sexuality. What kinds of concerns would you have?"
      ]
    }
  ],
  "metadata": {
    "colab": {
      "provenance": []
    },
    "kernelspec": {
      "display_name": "Python 3 (ipykernel)",
      "language": "python",
      "name": "python3"
    },
    "language_info": {
      "codemirror_mode": {
        "name": "ipython",
        "version": 3
      },
      "file_extension": ".py",
      "mimetype": "text/x-python",
      "name": "python",
      "nbconvert_exporter": "python",
      "pygments_lexer": "ipython3",
      "version": "3.10.4"
    }
  },
  "nbformat": 4,
  "nbformat_minor": 5
}